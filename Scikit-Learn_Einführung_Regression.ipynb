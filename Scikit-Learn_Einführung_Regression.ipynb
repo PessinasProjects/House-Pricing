{
 "cells": [
  {
   "cell_type": "markdown",
   "id": "d8f4db4b",
   "metadata": {},
   "source": [
    "**Einführung in Machine Learning mit Scikit-Learn**\n",
    "\n",
    "Willkommen in der faszinierenden Welt des Machine Learning (ML)! Dieses Dokument soll dir einen sanften Einstieg ermöglichen und dir zeigen, wie du mit der Python-Bibliothek Scikit-Learn erste Modelle trainieren kannst. Wir konzentrieren uns auf zwei grundlegende Algorithmen: Lineare Regression und Logistische Regression.\n",
    "\n",
    "**Was ist Machine Learning?**\n",
    "\n",
    "Machine Learning ist ein Teilbereich der Künstlichen Intelligenz (KI), bei dem Computersysteme die Fähigkeit erlernen, aus Daten Muster zu erkennen und Vorhersagen zu treffen, ohne explizit für jede einzelne Aufgabe programmiert zu werden. Stell dir vor, du bringst einem Kind bei, Hunde von Katzen zu unterscheiden, indem du ihm viele Bilder von Hunden und Katzen zeigst. Das Kind lernt mit der Zeit, die charakteristischen Merkmale zu erkennen. ML funktioniert ähnlich.\n",
    "\n",
    "**Was ist Scikit-Learn?**\n",
    "\n",
    "Scikit-Learn (oft als `sklearn` abgekürzt) ist eine der beliebtesten und umfangreichsten Open-Source-Bibliotheken für Machine Learning in Python. Sie bietet einfache und effiziente Werkzeuge für Datenanalyse und Modellierung, darunter:\n",
    "*   Klassifikation\n",
    "*   Regression\n",
    "*   Clustering\n",
    "*   Dimensionsreduktion\n",
    "*   Modellauswahl\n",
    "*   Vorverarbeitung\n",
    "\n",
    "**Grundlegende Konzepte im Machine Learning**\n",
    "\n",
    "1.  **Datensatz (Dataset):** Eine Sammlung von Datenpunkten. Jeder Datenpunkt besteht aus:\n",
    "    *   **Features (Merkmale, X):** Die unabhängigen Variablen oder Eingabewerte, die das Modell verwendet, um eine Vorhersage zu treffen (z.B. Größe eines Hauses, Anzahl der Zimmer).\n",
    "    *   **Target (Zielvariable, y):** Die abhängige Variable oder der Ausgabewert, den das Modell vorhersagen soll (z.B. Preis eines Hauses, ob ein Kunde kündigt oder nicht).\n",
    "\n",
    "2.  **Arten von Machine Learning (Fokus hier: Überwachtes Lernen):**\n",
    "    *   **Überwachtes Lernen (Supervised Learning):** Das Modell lernt aus gelabelten Daten, d.h. Daten, bei denen sowohl die Features (X) als auch das Target (y) bekannt sind.\n",
    "        *   **Regression:** Das Target ist ein kontinuierlicher Wert (z.B. Preis, Temperatur).\n",
    "        *   **Klassifikation:** Das Target ist eine diskrete Kategorie (z.B. \"Spam\"/\"Kein Spam\", \"Hund\"/\"Katze\").\n",
    "    *   **Unüberwachtes Lernen (Unsupervised Learning):** Das Modell lernt aus ungelabelten Daten und versucht, verborgene Muster oder Strukturen zu finden (z.B. Kundensegmentierung).\n",
    "\n",
    "3.  **Training und Testen:**\n",
    "    *   **Trainingsdaten:** Der Teil des Datensatzes, mit dem das Modell \"lernt\".\n",
    "    *   **Testdaten:** Ein separater Teil des Datensatzes, der verwendet wird, um die Leistung des trainierten Modells auf ungesehenen Daten zu bewerten. Dies ist entscheidend, um sicherzustellen, dass das Modell nicht nur die Trainingsdaten auswendig lernt (Overfitting), sondern generalisieren kann.\n",
    "\n",
    "**Installation**\n",
    "\n",
    "Bevor wir starten, stelle sicher, dass du Python und die notwendigen Bibliotheken installiert hast. Du kannst sie mit pip installieren:\n",
    "```bash\n",
    "pip install numpy pandas matplotlib scikit-learn\n",
    "```\n",
    "\n",
    "---\n",
    "\n",
    "**Schritt-für-Schritt: Lineare Regression**\n",
    "\n",
    "Die Lineare Regression ist ein Algorithmus des überwachten Lernens, der verwendet wird, um eine kontinuierliche Zielvariable vorherzusagen. Die Idee ist, eine Gerade (oder Hyperebene in höheren Dimensionen) zu finden, die am besten zu den Datenpunkten passt.\n",
    "\n",
    "**Die Formel (für ein einzelnes Feature):**\n",
    "`y = mx + c`\n",
    "*   `y`: Die vorhergesagte Zielvariable.\n",
    "*   `x`: Das Feature.\n",
    "*   `m`: Die Steigung der Geraden (Koeffizient).\n",
    "*   `c`: Der y-Achsenabschnitt (Intercept).\n",
    "\n",
    "Das Modell lernt die optimalen Werte für `m` und `c` aus den Trainingsdaten, indem es versucht, den Fehler zwischen den vorhergesagten Werten und den tatsächlichen Werten zu minimieren (oft durch die Methode der kleinsten Quadrate).\n",
    "\n",
    "**Beispiel: Vorhersage von Prüfungsergebnissen basierend auf Lernstunden**\n",
    "\n",
    "Angenommen, wir haben Daten darüber, wie viele Stunden Studenten gelernt haben und welche Punktzahl sie in einer Prüfung erreicht haben.\n",
    "\n",
    "**1. Notwendige Bibliotheken importieren:**"
   ]
  },
  {
   "cell_type": "code",
   "execution_count": null,
   "id": "a673c690",
   "metadata": {},
   "outputs": [],
   "source": [
    "import numpy as np\n",
    "import matplotlib.pyplot as plt\n",
    "from sklearn.model_selection import train_test_split\n",
    "from sklearn.linear_model import LinearRegression\n",
    "from sklearn.metrics import mean_squared_error, r2_score"
   ]
  },
  {
   "cell_type": "markdown",
   "id": "dab2061d",
   "metadata": {},
   "source": [
    "**2. Beispiel-Daten erstellen:**\n",
    "Wir erstellen künstliche Daten, um das Konzept zu veranschaulichen."
   ]
  },
  {
   "cell_type": "code",
   "execution_count": null,
   "id": "4250faff",
   "metadata": {},
   "outputs": [],
   "source": [
    "# Features (X): Lernstunden\n",
    "X = np.array([1, 2, 3, 4, 5, 6, 7, 8, 9, 10]).reshape(-1, 1) # .reshape(-1, 1) ist wichtig für sklearn\n",
    "\n",
    "# Target (y): Prüfungspunkte (mit etwas Rauschen)\n",
    "y = np.array([50, 52, 63, 64, 72, 82, 81, 88, 93, 92])"
   ]
  },
  {
   "cell_type": "markdown",
   "id": "800a86fa",
   "metadata": {},
   "source": [
    "*Hinweis:* `reshape(-1, 1)` wandelt unseren 1D-Array `X` in einen 2D-Array um, wie es Scikit-Learn erwartet (eine Spalte für Features, mehrere Zeilen für Datenpunkte).\n",
    "\n",
    "**3. Daten visualisieren (optional, aber empfohlen):**\n"
   ]
  },
  {
   "cell_type": "code",
   "execution_count": null,
   "id": "1dfe060d",
   "metadata": {},
   "outputs": [],
   "source": [
    "plt.figure(figsize=(8, 6))\n",
    "plt.scatter(X, y, color='blue', label='Tatsächliche Datenpunkte')\n",
    "plt.xlabel(\"Lernstunden\")\n",
    "plt.ylabel(\"Prüfungspunkte\")\n",
    "plt.title(\"Lernstunden vs. Prüfungspunkte\")\n",
    "plt.legend()\n",
    "plt.grid(True)\n",
    "plt.show()"
   ]
  },
  {
   "cell_type": "markdown",
   "id": "256f7c15",
   "metadata": {},
   "source": [
    "**4. Daten aufteilen in Trainings- und Testsets:**\n",
    "Obwohl unser Datensatz klein ist, ist dies ein wichtiger Schritt in der Praxis."
   ]
  },
  {
   "cell_type": "code",
   "execution_count": null,
   "id": "4cf581de",
   "metadata": {},
   "outputs": [],
   "source": [
    "X_train, X_test, y_train, y_test = train_test_split(X, y, test_size=0.2, random_state=42)\n",
    "# test_size=0.2 bedeutet 20% der Daten für den Test, 80% für das Training\n",
    "# random_state sorgt für reproduzierbare Aufteilungen"
   ]
  },
  {
   "cell_type": "markdown",
   "id": "30287999",
   "metadata": {},
   "source": [
    "Für dieses sehr kleine Beispiel könnten wir auch alle Daten zum Trainieren verwenden, aber für die Demonstration halten wir uns an die gute Praxis.\n"
   ]
  },
  {
   "cell_type": "markdown",
   "id": "e8e09d36",
   "metadata": {},
   "source": [
    "\n",
    "**5. Modell erstellen und trainieren:**"
   ]
  },
  {
   "cell_type": "code",
   "execution_count": null,
   "id": "9b78243c",
   "metadata": {},
   "outputs": [],
   "source": [
    "# Modell-Instanz erstellen\n",
    "model_lr = LinearRegression()\n",
    "\n",
    "# Modell mit Trainingsdaten trainieren\n",
    "model_lr.fit(X_train, y_train)\n",
    "\n",
    "print(\"Lineare Regression trainiert.\")\n",
    "print(f\"Achsenabschnitt (c): {model_lr.intercept_:.2f}\")\n",
    "print(f\"Steigung (m): {model_lr.coef_[0]:.2f}\")"
   ]
  },
  {
   "cell_type": "markdown",
   "id": "39b09e80",
   "metadata": {},
   "source": [
    "\n",
    "**6. Vorhersagen mit dem Testset machen:**\n"
   ]
  },
  {
   "cell_type": "code",
   "execution_count": null,
   "id": "3fcabd6b",
   "metadata": {},
   "outputs": [],
   "source": [
    "y_pred_lr = model_lr.predict(X_test)"
   ]
  },
  {
   "cell_type": "markdown",
   "id": "79b71bfb",
   "metadata": {},
   "source": [
    "\n",
    "**7. Modell bewerten:**\n",
    "*   **Mean Squared Error (MSE):** Der Durchschnitt der quadrierten Differenzen zwischen tatsächlichen und vorhergesagten Werten. Je kleiner, desto besser.\n",
    "*   **R-squared (R²):** Gibt an, wie viel Prozent der Varianz in der Zielvariable durch das Modell erklärt werden kann. Werte liegen zwischen 0 und 1. Je näher an 1, desto besser.\n"
   ]
  },
  {
   "cell_type": "code",
   "execution_count": null,
   "id": "b7355fc9",
   "metadata": {},
   "outputs": [],
   "source": [
    "mse_lr = mean_squared_error(y_test, y_pred_lr)\n",
    "r2_lr = r2_score(y_test, y_pred_lr)\n",
    "\n",
    "print(f\"\\nMean Squared Error (MSE): {mse_lr:.2f}\")\n",
    "print(f\"R-squared (R²): {r2_lr:.2f}\")\n",
    "\n",
    "# Ausgabe der Testvorhersagen im Vergleich zu den tatsächlichen Werten\n",
    "for i in range(len(X_test)):\n",
    "    print(f\"Lernstunden: {X_test[i][0]}, Tatsächliche Punkte: {y_test[i]}, Vorhergesagte Punkte: {y_pred_lr[i]:.2f}\")"
   ]
  },
  {
   "cell_type": "markdown",
   "id": "12fa9b4b",
   "metadata": {},
   "source": [
    "**8. Ergebnisse visualisieren:**"
   ]
  },
  {
   "cell_type": "code",
   "execution_count": null,
   "id": "7f3222c1",
   "metadata": {},
   "outputs": [],
   "source": [
    "plt.figure(figsize=(8, 6))\n",
    "plt.scatter(X_test, y_test, color='blue', label='Tatsächliche Testdaten')\n",
    "plt.plot(X_test, y_pred_lr, color='red', linewidth=2, label='Regressionsgerade') # Vorhersagen auf Testdaten\n",
    "# Um die Linie über den gesamten Bereich zu zeichnen:\n",
    "X_plot = np.array([[min(X)[0]], [max(X)[0]]]) # Min und Max X-Werte für die Linie\n",
    "y_plot_lr = model_lr.predict(X_plot)\n",
    "plt.plot(X_plot, y_plot_lr, color='green', linestyle='--', linewidth=2, label='Gesamte Regressionsgerade')\n",
    "\n",
    "plt.xlabel(\"Lernstunden\")\n",
    "plt.ylabel(\"Prüfungspunkte\")\n",
    "plt.title(\"Lineare Regression: Vorhersage vs. Tatsächlich\")\n",
    "plt.legend()\n",
    "plt.grid(True)\n",
    "plt.show()\n"
   ]
  },
  {
   "cell_type": "markdown",
   "id": "31253289",
   "metadata": {},
   "source": [
    "\n",
    "---\n",
    "\n",
    "**Schritt-für-Schritt: Logistische Regression**\n",
    "\n",
    "Die Logistische Regression wird für **Klassifikationsprobleme** verwendet, bei denen die Zielvariable kategorisch ist (z.B. Ja/Nein, 0/1, Klasse A/Klasse B). Obwohl der Name \"Regression\" enthält, ist es ein Klassifikationsalgorithmus.\n",
    "\n",
    "Sie schätzt die Wahrscheinlichkeit, dass eine Beobachtung zu einer bestimmten Klasse gehört. Dies geschieht, indem eine lineare Gleichung (ähnlich der linearen Regression) durch eine **Sigmoidfunktion** (auch logistische Funktion genannt) transformiert wird. Die Sigmoidfunktion gibt Werte zwischen 0 und 1 aus, die als Wahrscheinlichkeiten interpretiert werden können.\n",
    "\n",
    "**Die Formel (konzeptionell):**\n",
    "1.  Lineare Kombination: `z = mx + c` (oder `β₀ + β₁x₁ + ...`)\n",
    "2.  Sigmoidfunktion: `P(y=1) = 1 / (1 + e^(-z))`\n",
    "\n",
    "Wenn `P(y=1) >= 0.5`, wird die Klasse als 1 vorhergesagt, andernfalls als 0 (für binäre Klassifikation).\n",
    "\n",
    "**Beispiel: Vorhersage, ob ein Student eine Prüfung besteht (basierend auf Lernstunden)**\n",
    "\n",
    "Angenommen, wir wollen vorhersagen, ob ein Student besteht (1) oder nicht besteht (0).\n",
    "\n",
    "**1. Notwendige Bibliotheken importieren:**\n"
   ]
  },
  {
   "cell_type": "code",
   "execution_count": null,
   "id": "b8e4074f",
   "metadata": {},
   "outputs": [],
   "source": [
    "import numpy as np\n",
    "import matplotlib.pyplot as plt\n",
    "from sklearn.model_selection import train_test_split\n",
    "from sklearn.linear_model import LogisticRegression\n",
    "from sklearn.metrics import accuracy_score, confusion_matrix, classification_report\n"
   ]
  },
  {
   "cell_type": "markdown",
   "id": "88051d2c",
   "metadata": {},
   "source": [
    "**2. Beispiel-Daten erstellen:**"
   ]
  },
  {
   "cell_type": "code",
   "execution_count": null,
   "id": "01a75259",
   "metadata": {},
   "outputs": [],
   "source": [
    "\n",
    "# Features (X): Lernstunden\n",
    "X_log = np.array([1, 1.5, 2, 2.5, 3, 4, 4.5, 5, 6, 7, 8, 9]).reshape(-1, 1)\n",
    "# Target (y): Bestanden (1) oder nicht bestanden (0)\n",
    "y_log = np.array([0, 0, 0, 0, 0, 1, 0, 1, 1, 1, 1, 1]) # Angenommen, ab ca. 4-5 Stunden besteht man eher\n"
   ]
  },
  {
   "cell_type": "markdown",
   "id": "88251b8a",
   "metadata": {},
   "source": [
    "\n",
    "**3. Daten visualisieren (optional):**\n"
   ]
  },
  {
   "cell_type": "code",
   "execution_count": null,
   "id": "a0595e98",
   "metadata": {},
   "outputs": [],
   "source": [
    "plt.figure(figsize=(8, 6))\n",
    "plt.scatter(X_log, y_log, color='purple', label='Tatsächliche Daten (0=Nicht Bestanden, 1=Bestanden)')\n",
    "plt.yticks([0, 1])\n",
    "plt.xlabel(\"Lernstunden\")\n",
    "plt.ylabel(\"Prüfung bestanden?\")\n",
    "plt.title(\"Lernstunden vs. Prüfungserfolg\")\n",
    "plt.legend()\n",
    "plt.grid(True)\n",
    "plt.show()\n"
   ]
  },
  {
   "cell_type": "markdown",
   "id": "ac3c82f8",
   "metadata": {},
   "source": [
    "\n",
    "**4. Daten aufteilen in Trainings- und Testsets:**\n"
   ]
  },
  {
   "cell_type": "code",
   "execution_count": null,
   "id": "68195fc0",
   "metadata": {},
   "outputs": [],
   "source": [
    "X_log_train, X_log_test, y_log_train, y_log_test = train_test_split(X_log, y_log, test_size=0.3, random_state=42, stratify=y_log)\n",
    "# stratify=y_log ist nützlich bei Klassifikation, um die Klassenproportionen in Trainings- und Testset beizubehalten."
   ]
  },
  {
   "cell_type": "markdown",
   "id": "701c9dea",
   "metadata": {},
   "source": [
    "\n",
    "**5. Modell erstellen und trainieren:**\n"
   ]
  },
  {
   "cell_type": "code",
   "execution_count": null,
   "id": "8887b50f",
   "metadata": {},
   "outputs": [],
   "source": [
    "# Modell-Instanz erstellen\n",
    "model_logreg = LogisticRegression()\n",
    "\n",
    "# Modell mit Trainingsdaten trainieren\n",
    "model_logreg.fit(X_log_train, y_log_train)\n",
    "\n",
    "print(\"Logistische Regression trainiert.\")\n"
   ]
  },
  {
   "cell_type": "markdown",
   "id": "3f5fc403",
   "metadata": {},
   "source": [
    "\n",
    "**6. Vorhersagen mit dem Testset machen:**\n"
   ]
  },
  {
   "cell_type": "code",
   "execution_count": null,
   "id": "acb30e64",
   "metadata": {},
   "outputs": [],
   "source": [
    "y_pred_logreg = model_logreg.predict(X_log_test)\n",
    "y_pred_proba_logreg = model_logreg.predict_proba(X_log_test) # Wahrscheinlichkeiten für jede Klasse"
   ]
  },
  {
   "cell_type": "markdown",
   "id": "b807b0a4",
   "metadata": {},
   "source": [
    "\n",
    "**7. Modell bewerten:**\n",
    "*   **Accuracy (Genauigkeit):** Anteil der korrekt klassifizierten Instanzen.\n",
    "*   **Confusion Matrix (Konfusionsmatrix):** Eine Tabelle, die die Leistung des Klassifikationsmodells zusammenfasst.\n",
    "    *   True Positives (TP): Korrekt als positiv klassifiziert.\n",
    "    *   True Negatives (TN): Korrekt als negativ klassifiziert.\n",
    "    *   False Positives (FP): Fälschlicherweise als positiv klassifiziert (Typ-I-Fehler).\n",
    "    *   False Negatives (FN): Fälschlicherweise als negativ klassifiziert (Typ-II-Fehler).\n",
    "*   **Classification Report:** Bietet Präzision, Recall, F1-Score für jede Klasse.\n"
   ]
  },
  {
   "cell_type": "markdown",
   "id": "df2ea463",
   "metadata": {},
   "source": [
    "\n",
    "### Aufgabe: \n",
    "Recherchiert was man unter einer ``confusion matrix`` versteht.\n"
   ]
  },
  {
   "cell_type": "code",
   "execution_count": null,
   "id": "810ac420",
   "metadata": {},
   "outputs": [],
   "source": [
    "accuracy_logreg = accuracy_score(y_log_test, y_pred_logreg)\n",
    "conf_matrix_logreg = confusion_matrix(y_log_test, y_pred_logreg)\n",
    "class_report_logreg = classification_report(y_log_test, y_pred_logreg, zero_division=0)\n",
    "\n",
    "print(f\"\\nAccuracy: {accuracy_logreg:.2f}\")\n",
    "print(\"\\nConfusion Matrix:\\n\", conf_matrix_logreg)\n",
    "print(\"\\nClassification Report:\\n\", class_report_logreg)"
   ]
  },
  {
   "cell_type": "code",
   "execution_count": null,
   "id": "38e7c3a7",
   "metadata": {},
   "outputs": [],
   "source": [
    "# Ausgabe der Testvorhersagen im Vergleich zu den tatsächlichen Werten\n",
    "print(\"\\nVorhersagen auf Testdaten:\")\n",
    "for i in range(len(X_log_test)):\n",
    "    print(f\"Lernstunden: {X_log_test[i][0]}, Tatsächlich: {y_log_test[i]}, Vorhergesagt: {y_pred_logreg[i]}, Wahrsch. (Klasse 1): {y_pred_proba_logreg[i][1]:.2f}\")"
   ]
  },
  {
   "cell_type": "markdown",
   "id": "1655e0c4",
   "metadata": {},
   "source": [
    "\n",
    "**8. Ergebnisse visualisieren (Sigmoidkurve):**\n"
   ]
  },
  {
   "cell_type": "code",
   "execution_count": null,
   "id": "bc69ceda",
   "metadata": {},
   "outputs": [],
   "source": [
    "plt.figure(figsize=(10, 6))\n",
    "plt.scatter(X_log_test, y_log_test, color='purple', label='Tatsächliche Testdaten', zorder=2)\n",
    "# Sortiere X für eine glatte Kurve\n",
    "X_log_plot_sorted = np.sort(X_log, axis=0)\n",
    "y_log_plot_proba = model_logreg.predict_proba(X_log_plot_sorted)[:, 1] # Wahrscheinlichkeit für Klasse 1\n",
    "\n",
    "plt.plot(X_log_plot_sorted, y_log_plot_proba, color='green', linewidth=2, label='Logistische Regressionskurve (Wahrscheinlichkeit für \"Bestanden\")')\n",
    "plt.axhline(0.5, color='red', linestyle='--', label='Entscheidungsgrenze (0.5)')\n",
    "\n",
    "plt.yticks([0, 0.5, 1])\n",
    "plt.xlabel(\"Lernstunden\")\n",
    "plt.ylabel(\"Wahrscheinlichkeit des Bestehens / Bestanden?\")\n",
    "plt.title(\"Logistische Regression: Vorhersage vs. Tatsächlich\")\n",
    "plt.legend()\n",
    "plt.grid(True)\n",
    "plt.show()\n"
   ]
  },
  {
   "cell_type": "markdown",
   "id": "32fb3f95",
   "metadata": {},
   "source": [
    "**Allgemeiner Workflow in Scikit-Learn**\n",
    "\n",
    "1.  **Daten laden und vorbereiten:**\n",
    "    *   Features (X) und Target (y) identifizieren.\n",
    "    *   Daten bereinigen (fehlende Werte, Ausreißer).\n",
    "    *   Daten transformieren (Skalierung, Kodierung kategorialer Variablen) - *nicht in diesen Beispielen behandelt, aber wichtig für komplexere Datensätze.*\n",
    "2.  **Daten aufteilen:** `train_test_split` verwenden, um Trainings- und Testsets zu erstellen.\n",
    "3.  **Modell auswählen:** Den passenden Algorithmus für das Problem wählen (z.B. `LinearRegression`, `LogisticRegression`).\n",
    "4.  **Modell trainieren:** Die `fit(X_train, y_train)` Methode des Modells aufrufen.\n",
    "5.  **Vorhersagen machen:** Die `predict(X_test)` Methode verwenden. Für Klassifikation auch `predict_proba(X_test)`.\n",
    "6.  **Modell bewerten:** Geeignete Metriken verwenden (z.B. MSE, R² für Regression; Accuracy, Confusion Matrix für Klassifikation).\n",
    "7.  **Modell optimieren (optional):** Hyperparameter anpassen, andere Modelle testen.\n"
   ]
  },
  {
   "cell_type": "markdown",
   "id": "c8f1a63f",
   "metadata": {},
   "source": [
    "**Aufgaben mit Lösungen**\n",
    "\n",
    "**Aufgabe 1: Lineare Regression - Vorhersage von Gehältern**\n",
    "\n",
    "Du hast einen kleinen Datensatz mit Berufserfahrung (in Jahren) und dem entsprechenden Gehalt.\n",
    "*   Erfahrung (Jahre): `[1, 2, 3, 4, 5, 6, 7, 8, 9, 10]`\n",
    "*   Gehalt (in Tausend €): `[30, 35, 40, 48, 55, 60, 68, 72, 78, 85]`\n",
    "\n",
    "**Aufgabenstellung:**\n",
    "1.  Erstelle ein lineares Regressionsmodell, um das Gehalt basierend auf der Berufserfahrung vorherzusagen.\n",
    "2.  Trainiere das Modell mit 80% der Daten.\n",
    "3.  Mache Vorhersagen für die Testdaten.\n",
    "4.  Bewerte das Modell mit MSE und R².\n",
    "5.  Was wäre das vorhergesagte Gehalt für jemanden mit 3.5 Jahren Erfahrung und für jemanden mit 12 Jahren Erfahrung?\n"
   ]
  },
  {
   "cell_type": "code",
   "execution_count": null,
   "id": "53990176",
   "metadata": {},
   "outputs": [],
   "source": [
    "#Lösung"
   ]
  },
  {
   "cell_type": "markdown",
   "id": "ae3887f7",
   "metadata": {},
   "source": [
    "\n",
    "**Lösung zu Aufgabe 1:**\n"
   ]
  },
  {
   "cell_type": "markdown",
   "id": "b57ce241",
   "metadata": {},
   "source": [
    "\n",
    "**Aufgabe 2: Logistische Regression - Vorhersage von Kundenabwanderung**\n",
    "\n",
    "Du hast Daten darüber, wie oft Kunden einen Dienst genutzt haben und ob sie gekündigt haben (1=gekündigt, 0=nicht gekündigt).\n",
    "*   Nutzungshäufigkeit (pro Monat): `[1, 2, 3, 5, 6, 7, 10, 12, 15, 18, 20, 22, 25, 28, 30]`\n",
    "*   Gekündigt: `[1, 1, 1, 1, 0, 1, 0, 0, 1, 0, 0, 0, 0, 0, 0]` (weniger Nutzung -> eher Kündigung)\n",
    "\n",
    "**Aufgabenstellung:**\n",
    "1.  Erstelle ein logistisches Regressionsmodell, um vorherzusagen, ob ein Kunde kündigt.\n",
    "2.  Trainiere das Modell mit 70% der Daten.\n",
    "3.  Mache Vorhersagen für die Testdaten (Klassen und Wahrscheinlichkeiten).\n",
    "4.  Bewerte das Modell mit Accuracy und einer Confusion Matrix.\n",
    "5.  Wie hoch ist die Wahrscheinlichkeit, dass ein Kunde mit 4 Nutzungen pro Monat kündigt? Und einer mit 16 Nutzungen?\n"
   ]
  },
  {
   "cell_type": "code",
   "execution_count": null,
   "id": "df1dc8b5",
   "metadata": {},
   "outputs": [],
   "source": [
    "#Lösung"
   ]
  },
  {
   "cell_type": "code",
   "execution_count": null,
   "id": "cd90cf43",
   "metadata": {},
   "outputs": [],
   "source": []
  }
 ],
 "metadata": {
  "kernelspec": {
   "display_name": "base",
   "language": "python",
   "name": "python3"
  },
  "language_info": {
   "codemirror_mode": {
    "name": "ipython",
    "version": 3
   },
   "file_extension": ".py",
   "mimetype": "text/x-python",
   "name": "python",
   "nbconvert_exporter": "python",
   "pygments_lexer": "ipython3",
   "version": "3.12.7"
  }
 },
 "nbformat": 4,
 "nbformat_minor": 5
}
