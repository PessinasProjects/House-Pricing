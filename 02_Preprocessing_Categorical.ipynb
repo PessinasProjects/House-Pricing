{
 "cells": [
  {
   "cell_type": "code",
   "execution_count": null,
   "id": "1adcb306",
   "metadata": {},
   "outputs": [],
   "source": [
    "# Importieren der notwendigen Bibliotheken\n",
    "import pandas as pd\n",
    "import numpy as np\n",
    "import seaborn as sns\n",
    "import matplotlib.pyplot as plt\n",
    "from sklearn.model_selection import train_test_split\n",
    "from sklearn.preprocessing import StandardScaler\n",
    "from sklearn.linear_model import LinearRegression\n",
    "from sklearn.metrics import mean_squared_error, r2_score\n",
    "\n",
    "import statsmodels.api as sm\n",
    "from statsmodels.formula.api import ols\n",
    "from scipy.stats import chi2_contingency\n",
    "from itertools import combinations"
   ]
  },
  {
   "cell_type": "code",
   "execution_count": null,
   "id": "25e3bf0c",
   "metadata": {},
   "outputs": [],
   "source": [
    "#daten einlesen\n",
    "train_df_initial = pd.read_csv('train.csv')"
   ]
  },
  {
   "cell_type": "code",
   "execution_count": null,
   "id": "7644b0c0",
   "metadata": {},
   "outputs": [],
   "source": [
    "#Auswahl aller kategorischen Spalten.\n",
    "categorical_cols = train_df_initial.select_dtypes(include=['object']).columns\n",
    "\n",
    "train_df_initial[categorical_cols]"
   ]
  },
  {
   "cell_type": "code",
   "execution_count": null,
   "id": "95658185",
   "metadata": {},
   "outputs": [],
   "source": [
    "#Infos über Daten und Auswahl der Spalten, wo es zu viele Nan als 'fehlende Werte' giubt.\n",
    "\n",
    "train_df_initial[categorical_cols].info()\n",
    "\n",
    "missing_values_columns_cat = []\n",
    "\n",
    "for col in train_df_initial[categorical_cols].columns:\n",
    "    if train_df_initial[col].isnull().sum() > 0:\n",
    "        missing_values_columns_cat.append(col)\n",
    "        \n",
    "missing_values_columns_cat            "
   ]
  },
  {
   "cell_type": "code",
   "execution_count": null,
   "id": "601e83ae",
   "metadata": {},
   "outputs": [],
   "source": [
    "#Aussortieren der Spalten, wo es viele fehlende Werte gibt und Zuzufügen der Target Spalte.\n",
    "\n",
    "train_df_cat_rel = train_df_initial[categorical_cols].drop(missing_values_columns_cat, axis=1)\n",
    "\n",
    "train_df_cat_rel['SalePrice'] = train_df_initial['SalePrice']\n",
    "\n",
    "train_df_cat_rel_no_targ = train_df_cat_rel.drop('SalePrice', axis=1).reset_index(drop=True)\n"
   ]
  },
  {
   "cell_type": "code",
   "execution_count": null,
   "id": "81fd8b9c",
   "metadata": {},
   "outputs": [],
   "source": [
    "#1. Anova Test, um die Kategorischen Spalte auszusuchen, die für eine Regression interessant sein könnten\n",
    "\n",
    "rel_cat = []\n",
    "\n",
    "for feature in train_df_cat_rel_no_targ.columns:\n",
    "    model = ols(f'SalePrice ~ C({feature})', data=train_df_cat_rel).fit()\n",
    "    table = sm.stats.anova_lm(model, typ=2)\n",
    "    if table['PR(>F)'][0] < 0.05:\n",
    "        rel_cat.append(feature)\n",
    "\n",
    "rel_cat"
   ]
  },
  {
   "cell_type": "code",
   "execution_count": null,
   "id": "1e773e73",
   "metadata": {},
   "outputs": [],
   "source": [
    "#Chi Quadrat Test, um Multikollinearität unter kat. Variablen zu entdecken und weiter Weriabeln zu aussortieren. \n",
    "# https://www.geeksforgeeks.org/python/python-pearsons-chi-square-test/\n",
    "\n",
    "results = []\n",
    "\n",
    "for var1, var2 in combinations(train_df_cat_rel_no_targ.columns, 2):\n",
    "    contingency_table = pd.crosstab(train_df_cat_rel_no_targ[var1], train_df_cat_rel_no_targ[var2])\n",
    "    \n",
    "    if contingency_table.shape[0] > 1 and contingency_table.shape[1] > 1:\n",
    "            try:\n",
    "                chi2, p, dof, expected = chi2_contingency(contingency_table)\n",
    "                results.append({\n",
    "                    'Variable 1': var1,\n",
    "                    'Variable 2': var2,\n",
    "                    'Chi2': chi2,\n",
    "                    'p-value': p,\n",
    "                    'DoF': dof\n",
    "                })\n",
    "            except ValueError as e:\n",
    "                print(f\"Skipped pair ({var1}, {var2}): {e}\")\n",
    "            \n",
    "results_df = pd.DataFrame(results)\n",
    "\n",
    "results_df"
   ]
  },
  {
   "cell_type": "code",
   "execution_count": null,
   "id": "20c0bd8e",
   "metadata": {},
   "outputs": [],
   "source": [
    "#p-value < 0.05 -> statistisch konnte es eine Korrelation unter den Kategorien nach Chi Quadrat.\n",
    "\n",
    "corr_values = results_df[results_df['p-value'] < 0.05][['Variable 1', 'Variable 2']]\n",
    "\n",
    "to_exclude = set()\n",
    "\n",
    "for _, row in corr_values.iterrows():\n",
    "    to_exclude.add(row['Variable 2'])\n",
    "\n",
    "df_uncorrelated = train_df_cat_rel_no_targ.drop(columns=list(to_exclude))\n",
    "\n",
    "df_uncorrelated"
   ]
  },
  {
   "cell_type": "code",
   "execution_count": null,
   "id": "28fb634c",
   "metadata": {},
   "outputs": [],
   "source": [
    "# 2 Vermütete bedeutesten kategorischen Variabeln nach Analyse und Hintegrundkenntnisse.\n",
    "categorical_rel_features = ['HouseStyle', 'Condition1', 'Neighborhood', 'MSZoning', 'SaleCondition']\n",
    "\n",
    "cat_train_df = train_df_initial[categorical_rel_features]\n",
    "\n"
   ]
  },
  {
   "cell_type": "code",
   "execution_count": null,
   "id": "04f80439",
   "metadata": {},
   "outputs": [],
   "source": [
    "#Analyse der vermütete kategorische Variabeln mit der Hilfe Boxplots.\n",
    "\n",
    "fig, axes = plt.subplots(2, 2, figsize=(20, 16))\n",
    "\n",
    "sns.boxplot(x='HouseStyle', y='SalePrice', ax=axes[0, 0], data=train_df_initial)\n",
    "axes[0, 0].set_title('HouseStyle')\n",
    "axes[0, 0].tick_params(axis='x', rotation=45)\n",
    "\n",
    "sns.boxplot(x='Condition1', y='SalePrice', data=train_df_initial, ax=axes[0, 1])\n",
    "axes[0, 1].set_title('Condition1')\n",
    "axes[0, 1].tick_params(axis='x', rotation=45)\n",
    "\n",
    "sns.boxplot(x='Neighborhood', y='SalePrice', ax=axes[1, 0], data=train_df_initial)\n",
    "axes[1, 0].set_title('Neighborhood')\n",
    "axes[1, 0].tick_params(axis='x', rotation=45)\n",
    "\n",
    "sns.boxplot(x='MSZoning', y='SalePrice', data=train_df_initial, ax=axes[1, 1])\n",
    "axes[1, 1].set_title('MsZoning')\n",
    "axes[1, 1].tick_params(axis='x', rotation=45)"
   ]
  },
  {
   "cell_type": "code",
   "execution_count": null,
   "id": "bba8f408",
   "metadata": {},
   "outputs": [],
   "source": [
    "fig, axes = plt.subplots(1, 3, figsize=(22, 8))\n",
    "\n",
    "sns.boxplot(x='MSZoning', y='SalePrice', data=train_df_initial, ax=axes[0])\n",
    "axes[0].set_title('MsZoning')\n",
    "axes[0].tick_params(axis='x', rotation=45)\n",
    "\n",
    "\n",
    "sns.boxplot(x='Utilities', y='SalePrice', data=train_df_initial, ax=axes[1])\n",
    "axes[1].set_title('Utilities')\n",
    "axes[1].tick_params(axis='x', rotation=45)\n",
    "\n",
    "sns.boxplot(x='SaleCondition', y='SalePrice', data=train_df_initial, ax=axes[2])\n",
    "axes[2].set_title('SaleCondition')\n",
    "axes[2].tick_params(axis='x', rotation=45)"
   ]
  },
  {
   "cell_type": "code",
   "execution_count": null,
   "id": "acd365e6",
   "metadata": {},
   "outputs": [],
   "source": [
    "# Kategorische Variablen in numerische umwandeln\n",
    "\n",
    "cat_train_df_encoded = pd.get_dummies(cat_train_df, columns=categorical_rel_features, drop_first=True)\n",
    "\n",
    "cat_train_df_encoded"
   ]
  }
 ],
 "metadata": {
  "kernelspec": {
   "display_name": ".venv",
   "language": "python",
   "name": "python3"
  },
  "language_info": {
   "codemirror_mode": {
    "name": "ipython",
    "version": 3
   },
   "file_extension": ".py",
   "mimetype": "text/x-python",
   "name": "python",
   "nbconvert_exporter": "python",
   "pygments_lexer": "ipython3",
   "version": "3.12.3"
  }
 },
 "nbformat": 4,
 "nbformat_minor": 5
}
